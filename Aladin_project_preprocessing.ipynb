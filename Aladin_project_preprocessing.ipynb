{
 "metadata": {
  "language_info": {
   "codemirror_mode": {
    "name": "ipython",
    "version": 3
   },
   "file_extension": ".py",
   "mimetype": "text/x-python",
   "name": "python",
   "nbconvert_exporter": "python",
   "pygments_lexer": "ipython3",
   "version": "3.7.10"
  },
  "orig_nbformat": 4,
  "kernelspec": {
   "name": "python3",
   "display_name": "Python 3.7.10 64-bit ('AI_exam': conda)"
  },
  "interpreter": {
   "hash": "293ef13038b1144d4811de228cdfb91e615f2f48e1a0c87d3a386cf88ee0761d"
  }
 },
 "nbformat": 4,
 "nbformat_minor": 2,
 "cells": [
  {
   "cell_type": "code",
   "execution_count": 2,
   "metadata": {},
   "outputs": [],
   "source": [
    "import pandas as pd\n",
    "import numpy as np\n",
    "from sklearn.model_selection import train_test_split\n",
    "from sklearn.preprocessing import LabelEncoder\n",
    "from tensorflow.keras.utils import to_categorical\n",
    "from tensorflow.keras.preprocessing.text import *\n",
    "from tensorflow.keras.preprocessing.sequence import pad_sequences\n",
    "import pickle\n",
    "from konlpy.tag import Okt"
   ]
  },
  {
   "cell_type": "code",
   "execution_count": 3,
   "metadata": {},
   "outputs": [],
   "source": [
    "pd.set_option('display.unicode.east_asian_width',True) #행열 정렬"
   ]
  },
  {
   "cell_type": "code",
   "execution_count": 4,
   "metadata": {},
   "outputs": [
    {
     "output_type": "stream",
     "name": "stdout",
     "text": [
      "                         title  \\\n0    황성주 박사의 생식과 건강   \n1  아름다운 청년, 대니 서의 집   \n2           여왕 패션 종이인형   \n3       더 포스터 북 by 이미소   \n4                    가죽 소품   \n\n                                                                                summary  \\\n0  생식을 통한 식생활 개선으로 성인병을 치료하는 방법서. 육류 등의 포화지방이나 콜레...   \n1  환경 운동가 대니 서가 공개하는 환경 친화적인 집 꾸미기. 이 책은 교외에 위치한 ...      \n2  다양한 업적을 가진 세계의 여왕 패션을 직접 입혀보고, 아름답고 다양한 드레스와 왕...    \n3  직관적인 제목처럼 권마다 포스터 작품 10점으로 가득 채워진 도서이다. 그러나 일반...     \n4  가죽공예의 기본 테크닉에서부터 명함 지갑, 동전 지갑, 물림쇠 지갑, 파우치, 안경...      \n\n           category  \n0  Home_Cook_Beauty  \n1  Home_Cook_Beauty  \n2  Home_Cook_Beauty  \n3  Home_Cook_Beauty  \n4  Home_Cook_Beauty  \n<class 'pandas.core.frame.DataFrame'>\nRangeIndex: 65548 entries, 0 to 65547\nData columns (total 3 columns):\n #   Column    Non-Null Count  Dtype \n---  ------    --------------  ----- \n 0   title     65548 non-null  object\n 1   summary   65516 non-null  object\n 2   category  65548 non-null  object\ndtypes: object(3)\nmemory usage: 1.5+ MB\nNone\n"
     ]
    }
   ],
   "source": [
    "df = pd.read_csv('./crawling_data/raw_65548_2021-06-18.csv', engine='python')\n",
    "print(df.head())\n",
    "print(df.info())"
   ]
  },
  {
   "cell_type": "code",
   "execution_count": 5,
   "metadata": {},
   "outputs": [
    {
     "output_type": "stream",
     "name": "stdout",
     "text": [
      "                         title  \\\n0    황성주 박사의 생식과 건강   \n1  아름다운 청년, 대니 서의 집   \n2           여왕 패션 종이인형   \n3       더 포스터 북 by 이미소   \n4                    가죽 소품   \n\n                                                                                summary  \\\n0  생식을 통한 식생활 개선으로 성인병을 치료하는 방법서. 육류 등의 포화지방이나 콜레...   \n1  환경 운동가 대니 서가 공개하는 환경 친화적인 집 꾸미기. 이 책은 교외에 위치한 ...      \n2  다양한 업적을 가진 세계의 여왕 패션을 직접 입혀보고, 아름답고 다양한 드레스와 왕...    \n3  직관적인 제목처럼 권마다 포스터 작품 10점으로 가득 채워진 도서이다. 그러나 일반...     \n4  가죽공예의 기본 테크닉에서부터 명함 지갑, 동전 지갑, 물림쇠 지갑, 파우치, 안경...      \n\n           category  \n0  Home_Cook_Beauty  \n1  Home_Cook_Beauty  \n2  Home_Cook_Beauty  \n3  Home_Cook_Beauty  \n4  Home_Cook_Beauty  \n<class 'pandas.core.frame.DataFrame'>\nInt64Index: 65516 entries, 0 to 65547\nData columns (total 3 columns):\n #   Column    Non-Null Count  Dtype \n---  ------    --------------  ----- \n 0   title     65516 non-null  object\n 1   summary   65516 non-null  object\n 2   category  65516 non-null  object\ndtypes: object(3)\nmemory usage: 2.0+ MB\nNone\n"
     ]
    }
   ],
   "source": [
    "df= df.dropna(axis=0)\n",
    "print(df.head())\n",
    "print(df.info())"
   ]
  },
  {
   "cell_type": "code",
   "execution_count": 6,
   "metadata": {},
   "outputs": [
    {
     "output_type": "stream",
     "name": "stdout",
     "text": [
      "0        False\n",
      "1        False\n",
      "2        False\n",
      "3        False\n",
      "4        False\n",
      "         ...  \n",
      "65543     True\n",
      "65544    False\n",
      "65545    False\n",
      "65546     True\n",
      "65547    False\n",
      "Name: summary, Length: 65516, dtype: bool\n",
      "7252\n"
     ]
    }
   ],
   "source": [
    "col_dup = df['summary'].duplicated()\n",
    "print(col_dup)\n",
    "sum_dup = df.summary.duplicated().sum()\n",
    "print(sum_dup)"
   ]
  },
  {
   "cell_type": "code",
   "execution_count": 7,
   "metadata": {},
   "outputs": [
    {
     "output_type": "stream",
     "name": "stdout",
     "text": [
      "0\n"
     ]
    }
   ],
   "source": [
    "df = df.drop_duplicates(subset=['summary'])\n",
    "sum_dup = df.summary.duplicated().sum()\n",
    "print(sum_dup) #중복된 개수의 합"
   ]
  },
  {
   "cell_type": "code",
   "execution_count": 8,
   "metadata": {},
   "outputs": [],
   "source": [
    "#인덱스를 처음부터 다시 붙여주는것\n",
    "df.reset_index(drop=True, inplace=True )\n",
    "#drop=True를 해야 기존 인덱스를 없애줌"
   ]
  },
  {
   "cell_type": "code",
   "execution_count": 9,
   "metadata": {},
   "outputs": [],
   "source": [
    "X = df['summary']\n",
    "Y= df['category']"
   ]
  },
  {
   "cell_type": "code",
   "execution_count": 10,
   "metadata": {},
   "outputs": [
    {
     "output_type": "stream",
     "name": "stdout",
     "text": [
      "1250    우리나라에도 미식문화가 자리를 잡아감에 따라 보다 전문적이고 참신한 레스토랑 가이드...\n1251    골판지를 이용한 환경구성 작품을 제작하는 동안 쌓인 노하우를 실은 책이다. 꽃과 동...\n1252    개인이나 의사 한두 명이 아닌 국내 최초 소아전문 한의원 ‘함소아’에서 13년 동안...\n1253    최근 몇 년간 얼굴이 작고 갸름한 동안미녀, 세련된 훈남으로 변신한 연예인들의 양악...\n1254    이나영, 수애, 이병헌, 한가인, 김효진, 유지태, 임창정, 김남길, 엄태웅 등 톱...\n                                            ...                                      \n1345    신혼 주부, 요리에 자신이 없는 젊은 엄마, 바쁜 맞벌이 부부, 그리고 독신자를 위...\n1346    간단 아침식사에서부터 국수 한접시, 한그릇 밥요리, 별미반찬과 술안주까지 한그릇에 ...\n1347    크고 기다란 바게트를 머리에 얹고 마른 옥수수를 양 어깨에 늘어뜨린 여자의 흉상이나...\n1348    전통 음식은 한방 의학을 기초로 한 음식의 조리와 음양오행설의 반영이 특징이라는 개...\n1349    오직 초보자를 위해 하나부터 열까지 세심하게 배려해 만든 키트다. 그중 <나의 첫 ...\nName: summary, Length: 100, dtype: object\n"
     ]
    }
   ],
   "source": [
    "len(X)\n",
    "print(X[1250:1350])\n"
   ]
  },
  {
   "cell_type": "code",
   "execution_count": 11,
   "metadata": {},
   "outputs": [
    {
     "output_type": "stream",
     "name": "stdout",
     "text": [
      "['Art_Culture' 'Economic' 'Economic_Management' 'Health_Hobby_Leisure'\n 'Home_Cook_Beauty' 'Novel_Poem' 'Reference_Book' 'Religion_Mysticism']\n"
     ]
    }
   ],
   "source": [
    "encoder = LabelEncoder()\n",
    "labeled_Y = encoder.fit_transform(Y)\n",
    "label = encoder.classes_\n",
    "print(label)"
   ]
  },
  {
   "cell_type": "code",
   "execution_count": 12,
   "metadata": {},
   "outputs": [
    {
     "output_type": "stream",
     "name": "stdout",
     "text": [
      "[4 4 4 ... 1 1 1]\n"
     ]
    }
   ],
   "source": [
    "with open('./data/book_category_encoder.pickle', 'wb') as f:\n",
    "  pickle.dump(encoder, f)\n",
    "\n",
    "print(labeled_Y)"
   ]
  },
  {
   "cell_type": "code",
   "execution_count": 13,
   "metadata": {},
   "outputs": [
    {
     "output_type": "stream",
     "name": "stdout",
     "text": [
      "[[0. 0. 0. ... 0. 0. 0.]\n [0. 0. 0. ... 0. 0. 0.]\n [0. 0. 0. ... 0. 0. 0.]\n ...\n [0. 1. 0. ... 0. 0. 0.]\n [0. 1. 0. ... 0. 0. 0.]\n [0. 1. 0. ... 0. 0. 0.]]\n"
     ]
    }
   ],
   "source": [
    "onehot_Y = to_categorical(labeled_Y)\n",
    "print(onehot_Y)"
   ]
  },
  {
   "cell_type": "code",
   "execution_count": 14,
   "metadata": {},
   "outputs": [],
   "source": [
    "stopwords = pd.read_csv('./stopwords.csv')"
   ]
  },
  {
   "cell_type": "code",
   "execution_count": 15,
   "metadata": {},
   "outputs": [
    {
     "output_type": "stream",
     "name": "stdout",
     "text": [
      "<class 'pandas.core.series.Series'>\n"
     ]
    }
   ],
   "source": [
    "okt = Okt()\n",
    "print(type(X))"
   ]
  },
  {
   "cell_type": "code",
   "execution_count": 16,
   "metadata": {},
   "outputs": [
    {
     "output_type": "stream",
     "name": "stdout",
     "text": [
      "생식을 통한 식생활 개선으로 성인병을 치료하는 방법서. 육류 등의 포화지방이나 콜레스테롤, 설탕을 많이함유하고 있는 요즘 음식은 건강을 해친다. 일반식에 비해 에너지 효율이 5,6배 높은 생식를 먹고 병이 나 은 임상결과를 다양한 사례와 함께 실었다.\n['생식', '을', '통한', '식생활', '개선', '으로', '성인병', '을', '치료', '하는', '방법', '서', '.', '육류', '등', '의', '포화지방', '이나', '콜레스테롤', ',', '설탕', '을', '많이', '함유', '하고', '있는', '요즘', '음식', '은', '건강', '을', '해친다', '.', '일반', '식', '에', '비해', '에너지', '효율', '이', '5', ',', '6', '배', '높은', '생', '식', '를', '먹고', '병', '이', '나', '은', '임', '상', '결과', '를', '다양한', '사례', '와', '함께', '실었다', '.']\n"
     ]
    }
   ],
   "source": [
    "okt_X = okt.morphs(X[0]) # 첫번째 title만 형태소 분리를 해서 okt_X에 넣어줌\n",
    "print(X[0])\n",
    "print(okt_X)"
   ]
  },
  {
   "cell_type": "code",
   "execution_count": 17,
   "metadata": {},
   "outputs": [
    {
     "output_type": "stream",
     "name": "stdout",
     "text": [
      "0        [생식, 을, 통한, 식생활, 개선, 으로, 성인병, 을, 치료, 하는, 방법, 서...\n1        [환경, 운동, 가, 대니, 서가, 공개, 하는, 환경, 친, 화, 적, 인, 집,...  \n2        [다양한, 업적, 을, 가진, 세계, 의, 여왕, 패션, 을, 직접, 입혀, 보고,...\n3        [직관, 적, 인, 제목, 처럼, 권, 마다, 포스터, 작품, 10, 점, 으로, ...   \n4        [가죽공예, 의, 기본, 테크닉, 에서부터, 명함, 지갑, ,, 동전, 지갑, ,,...\n                                          ...                                   \n58259    [전, 세계, 가, 코로나, 19, 바이러스, 로, 신음, 하던, 2020년, 5월...    \n58260    [IT, Cookbook, 한빛, 교재, 시리즈, 362, 권, ., 자동, 제어공...         \n58261    [--, 한국, 과학, 문화재단, ', 우수, 과학, 인증, 도서, ',, 「, 시...    \n58262    [인간, 을, 비롯, 한, 모든, 생명체, 는, 미생물, 에서, 비롯, 되었다, ....\n58263    [모든, 물질, 의, 기본, 인, 원소, 를, 깔끔하게, 보고, 직관, 적, 으로,...\nName: summary, Length: 58264, dtype: object\n"
     ]
    }
   ],
   "source": [
    "for i in range(len(X)):\n",
    "  X[i] = okt.morphs(X[i])\n",
    "print(X)"
   ]
  },
  {
   "cell_type": "code",
   "execution_count": 18,
   "metadata": {},
   "outputs": [
    {
     "output_type": "stream",
     "name": "stdout",
     "text": [
      "0        생식 통한 식생활 개선 성인병 치료 방법 육류 포화지방 이나 콜레스테롤 설탕 많이 ...\n1        환경 운동 대니 서가 공개 환경 꾸미기 교외 위치 부모님 평범한 주택 환경 이고 세... \n2        다양한 업적 가진 세계 여왕 패션 직접 입혀 아름답고 다양한 드레스 왕관 품위 여왕...\n3        직관 제목 마다 포스터 작품 10 가득 채워진 도서 일반 종이 평범하게 인쇄 작품 ...   \n4        가죽공예 기본 테크닉 에서부터 명함 지갑 동전 지갑 물림 지갑 파우치 안경집 소품 ...\n                                                ...                                        \n58259    세계 코로나 19 바이러스 신음 하던 2020년 5월 모처럼 세계 곳곳 이목 집중 ...       \n58260    IT Cookbook 한빛 교재 시리즈 362 자동 제어공학 처음 배우는 공학 계열...           \n58261    -- 한국 과학 문화재단 우수 과학 인증 도서 ', 시사저널 올해 2003년 선정 ...        \n58262    인간 비롯 모든 생명체 미생물 비롯 되었다 인간 병원 미생물 역사 관계 핏빛 물들어...\n58263    모든 물질 기본 원소 깔끔하게 직관 이해 있도록 비주 발견 118 가지 원소 성질 ...    \nName: summary, Length: 58264, dtype: object\n"
     ]
    }
   ],
   "source": [
    "for i in range(len(X)):\n",
    "  result = []\n",
    "  for j in range(len(X[i])):\n",
    "    if len(X[i][j]) > 1:\n",
    "      if X[i][j] not in list(stopwords['stopword']):\n",
    "        result.append(X[i][j])\n",
    "  X[i] = ' '.join(result)\n",
    "  \n",
    "print(X)"
   ]
  },
  {
   "cell_type": "code",
   "execution_count": 19,
   "metadata": {},
   "outputs": [
    {
     "output_type": "stream",
     "name": "stdout",
     "text": [
      "[5422, 883, 2202, 1029, 6851, 194, 8, 4580, 25850, 46, 6639, 2988, 289, 6778, 78, 90, 59543, 348, 1752, 588, 672, 314, 1108, 251, 13, 89, 543]\n"
     ]
    }
   ],
   "source": [
    "token = Tokenizer()\n",
    "token.fit_on_texts(X) # 어떤형태소를 무슨 숫자로 만들지 지정\n",
    "tokened_X = token.texts_to_sequences(X) # 해당 형태소를 라벨링 된 숫자로 변경\n",
    "print(tokened_X[0])"
   ]
  },
  {
   "cell_type": "code",
   "execution_count": 23,
   "metadata": {},
   "outputs": [
    {
     "output_type": "stream",
     "name": "stdout",
     "text": [
      "ERROR! Session/line number was not unique in database. History logging moved to new session 646\n"
     ]
    }
   ],
   "source": [
    "with open('./data/books_token.pickle', 'wb') as f:\n",
    "  pickle.dump(token, f)"
   ]
  },
  {
   "cell_type": "code",
   "execution_count": 24,
   "metadata": {},
   "outputs": [
    {
     "output_type": "stream",
     "name": "stdout",
     "text": [
      "131128\n"
     ]
    }
   ],
   "source": [
    "wordsize = len(token.word_index) +1 #나중에 0을 포함하려고\n",
    "print(wordsize)"
   ]
  },
  {
   "cell_type": "code",
   "execution_count": 25,
   "metadata": {},
   "outputs": [
    {
     "output_type": "stream",
     "name": "stdout",
     "text": [
      "970\n"
     ]
    }
   ],
   "source": [
    "max = 0\n",
    "for i in range(len(tokened_X)):\n",
    "  if max < len(tokened_X[i]):\n",
    "    max = len(tokened_X[i])\n",
    "\n",
    "print(max)"
   ]
  },
  {
   "cell_type": "code",
   "execution_count": 26,
   "metadata": {},
   "outputs": [
    {
     "output_type": "stream",
     "name": "stdout",
     "text": [
      "[[   0    0    0 ...   13   89  543]\n [   0    0    0 ...    2  390  665]\n [   0    0    0 ...  258 6082  502]\n ...\n [   0    0    0 ... 3001 1750 1503]\n [   0    0    0 ...  139  302 1329]\n [   0    0    0 ... 9237  684 1842]]\n"
     ]
    }
   ],
   "source": [
    "X_pad = pad_sequences(tokened_X, max) #토큰의 개수가 16개가 되게끔 알아서 앞쪽에 0을 붙여준다\n",
    "print(X_pad[:10])"
   ]
  },
  {
   "cell_type": "code",
   "execution_count": 27,
   "metadata": {},
   "outputs": [
    {
     "output_type": "stream",
     "name": "stdout",
     "text": [
      "(49524, 970)\n(8740, 970)\n(49524, 8)\n(8740, 8)\n"
     ]
    }
   ],
   "source": [
    "X_train, X_test, Y_train, Y_test = train_test_split(\n",
    "    X_pad, onehot_Y, test_size=0.15\n",
    ")\n",
    "\n",
    "print(X_train.shape)\n",
    "print(X_test.shape)\n",
    "print(Y_train.shape)\n",
    "print(Y_test.shape)"
   ]
  },
  {
   "cell_type": "code",
   "execution_count": 28,
   "metadata": {},
   "outputs": [
    {
     "output_type": "stream",
     "name": "stderr",
     "text": [
      "C:\\Users\\tyler\\anaconda3\\envs\\AI_exam\\lib\\site-packages\\numpy\\core\\_asarray.py:171: VisibleDeprecationWarning: Creating an ndarray from ragged nested sequences (which is a list-or-tuple of lists-or-tuples-or ndarrays with different lengths or shapes) is deprecated. If you meant to do this, you must specify 'dtype=object' when creating the ndarray.\n",
      "  return array(a, dtype, copy=False, order=order, subok=True)\n",
      "ERROR! Session/line number was not unique in database. History logging moved to new session 647\n"
     ]
    }
   ],
   "source": [
    "xy = X_train, X_test, Y_train, Y_test\n",
    "np.save('./data/books_data_max_{}_size_{}'.format(max,wordsize), xy)\n"
   ]
  },
  {
   "cell_type": "code",
   "execution_count": null,
   "metadata": {},
   "outputs": [],
   "source": []
  }
 ]
}